{
 "cells": [
  {
   "cell_type": "code",
   "execution_count": 6,
   "metadata": {},
   "outputs": [
    {
     "name": "stderr",
     "output_type": "stream",
     "text": [
      "WARNING: replacing module Simplex.\n"
     ]
    }
   ],
   "source": [
    "include(\"simplex.jl\")\n",
    "using .Simplex"
   ]
  },
  {
   "cell_type": "code",
   "execution_count": 8,
   "metadata": {},
   "outputs": [
    {
     "name": "stdout",
     "output_type": "stream",
     "text": [
      "5×7 Matrix{Float64}:\n",
      " 3.0  2.0  0.0  0.0  0.0  0.0   0.0\n",
      " 1.0  1.0  1.0  0.0  0.0  0.0   9.0\n",
      " 3.0  1.0  0.0  1.0  0.0  0.0  18.0\n",
      " 1.0  0.0  0.0  0.0  1.0  0.0   7.0\n",
      " 0.0  1.0  0.0  0.0  0.0  1.0   6.05×7 Matrix{Float64}:\n",
      " 0.0   1.0       0.0  -1.0       0.0  0.0  -18.0\n",
      " 0.0   0.666667  1.0  -0.333333  0.0  0.0    3.0\n",
      " 1.0   0.333333  0.0   0.333333  0.0  0.0    6.0\n",
      " 0.0  -0.333333  0.0  -0.333333  1.0  0.0    1.0\n",
      " 0.0   1.0       0.0   0.0       0.0  1.0    6.05×7 Matrix{Float64}:\n",
      " 0.0  0.0  -1.5  -0.5  0.0  0.0  -22.5\n",
      " 0.0  1.0   1.5  -0.5  0.0  0.0    4.5\n",
      " 1.0  0.0  -0.5   0.5  0.0  0.0    4.5\n",
      " 0.0  0.0   0.5  -0.5  1.0  0.0    2.5\n",
      " 0.0  0.0  -1.5   0.5  0.0  1.0    1.5"
     ]
    }
   ],
   "source": [
    "tableau = [3 2 0 0 0 0 0.;\n",
    "           1 1 1 0 0 0 9.;\n",
    "           3 1 0 1 0 0 18;\n",
    "           1 0 0 0 1 0 7.;\n",
    "           0 1 0 0 0 1 6.]\n",
    "\n",
    "basic_var = [3 4 5 6]\n",
    "Simplex.simplex(tableau, basic_var);"
   ]
  }
 ],
 "metadata": {
  "kernelspec": {
   "display_name": "Julia 1.8.1",
   "language": "julia",
   "name": "julia-1.8"
  },
  "language_info": {
   "file_extension": ".jl",
   "mimetype": "application/julia",
   "name": "julia",
   "version": "1.8.1"
  },
  "orig_nbformat": 4
 },
 "nbformat": 4,
 "nbformat_minor": 2
}
